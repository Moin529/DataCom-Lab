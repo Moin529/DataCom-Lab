{
 "cells": [
  {
   "cell_type": "code",
   "execution_count": 181,
   "metadata": {},
   "outputs": [],
   "source": [
    "# NRZ-I (Non-Return-to-Zero Inverted)\n",
    "\n",
    "import numpy as np\n",
    "import matplotlib.pyplot as plt"
   ]
  },
  {
   "cell_type": "code",
   "execution_count": 182,
   "metadata": {},
   "outputs": [],
   "source": [
    "# NRZ-I Encoding function\n",
    "\n",
    "def nrz_i_encode(bits):\n",
    "    encoded_signal = []\n",
    "    last_level = 0  # Let's start with 0 as the initial voltage\n",
    "\n",
    "    for bit in bits:\n",
    "        if bit == '1':\n",
    "            last_level = 1 - last_level  # Toggle level on '1'\n",
    "        # else, level stays the same for '0'\n",
    "        encoded_signal.append(last_level)\n",
    "\n",
    "    return encoded_signal\n"
   ]
  },
  {
   "cell_type": "code",
   "execution_count": 183,
   "metadata": {},
   "outputs": [],
   "source": [
    "# NRZ-I Decoding Function\n",
    "\n",
    "def nrz_i_decode(encoded_signal):\n",
    "    decoded_sequence = []\n",
    "    current_level = 1  # Start at low voltage level\n",
    "\n",
    "    for i in range(len(encoded_signal)):\n",
    "        if i == 0:  # First bit\n",
    "            decoded_sequence.append('0' if encoded_signal[i] == 0 else '1')\n",
    "            current_level = encoded_signal[i]  # Set initial level\n",
    "        else:\n",
    "            if encoded_signal[i] != current_level:\n",
    "                decoded_sequence.append('1')\n",
    "            else:\n",
    "                decoded_sequence.append('0')\n",
    "            current_level = encoded_signal[i]  # Update current level\n",
    "\n",
    "    return ''.join(decoded_sequence)"
   ]
  },
  {
   "cell_type": "code",
   "execution_count": 184,
   "metadata": {},
   "outputs": [],
   "source": [
    "# Plotting function\n",
    "\n",
    "def plot(encoded_signal):\n",
    "    time = np.arange(0, len(encoded_signal), 0.01)\n",
    "    voltage = np.repeat(encoded_signal, 100) # Creates a step Waveform\n",
    "\n",
    "    plt.figure(figsize=(10, 4))\n",
    "    plt.plot(time[:len(voltage)], voltage, label= 'NRZ-I Encoded Signal')\n",
    "    plt.title('NRZ-I Encoding')\n",
    "    plt.xlabel('Time')\n",
    "    plt.ylabel('Signal Level')\n",
    "    plt.ylim(-0.5,1.5)\n",
    "    plt.yticks([0,1], ['0', '1'])\n",
    "    plt.grid(True)\n",
    "    plt.legend()\n",
    "    plt.show()"
   ]
  },
  {
   "cell_type": "code",
   "execution_count": 185,
   "metadata": {},
   "outputs": [],
   "source": [
    "# Input\n",
    "\n",
    "binary_sequence = '10111001'"
   ]
  },
  {
   "cell_type": "code",
   "execution_count": 186,
   "metadata": {},
   "outputs": [
    {
     "name": "stdout",
     "output_type": "stream",
     "text": [
      "Encoded Signal:  [1, 1, 0, 1, 0, 0, 0, 1]\n"
     ]
    },
    {
     "data": {
      "image/png": "[encoded data removed]",
      "text/plain": [
       "<Figure size 1000x400 with 1 Axes>"
      ]
     },
     "metadata": {},
     "output_type": "display_data"
    },
    {
     "name": "stdout",
     "output_type": "stream",
     "text": [
      "Decoded Sequence:  10111001\n"
     ]
    }
   ],
   "source": [
    "# Plotting encoded signal and Decoding\n",
    "\n",
    "encoded_signal = nrz_i_encode(binary_sequence)\n",
    "print(\"Encoded Signal: \", encoded_signal)\n",
    "\n",
    "plot(encoded_signal)\n",
    "\n",
    "decoded_sequence = nrz_i_decode(encoded_signal)\n",
    "print(\"Decoded Sequence: \", decoded_sequence)"
   ]
  }
 ],
 "metadata": {
  "kernelspec": {
   "display_name": "Python 3",
   "language": "python",
   "name": "python3"
  },
  "language_info": {
   "codemirror_mode": {
    "name": "ipython",
    "version": 3
   },
   "file_extension": ".py",
   "mimetype": "text/x-python",
   "name": "python",
   "nbconvert_exporter": "python",
   "pygments_lexer": "ipython3",
   "version": "3.10.12"
  }
 },
 "nbformat": 4,
 "nbformat_minor": 2
}
